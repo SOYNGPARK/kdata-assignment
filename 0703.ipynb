{
 "cells": [
  {
   "cell_type": "markdown",
   "metadata": {},
   "source": [
    "# 20180703 과제 \n",
    "\n",
    "# 2018 BIG DATA x CAMPUS(고려대)\n",
    "\n",
    "# 서울과학기술대학교 ITM 전공 박소영"
   ]
  },
  {
   "cell_type": "markdown",
   "metadata": {},
   "source": [
    "## Exercise 105 : Reverse Order"
   ]
  },
  {
   "cell_type": "code",
   "execution_count": 85,
   "metadata": {},
   "outputs": [
    {
     "name": "stdout",
     "output_type": "stream",
     "text": [
      "Please input only integers and 0 as a sentinel value\n",
      "gg\n",
      "Please input only integers and 0 as a sentinel value\n",
      "1234567890123543463\n",
      "The answer is\n",
      "9\n",
      "8\n",
      "7\n",
      "6\n",
      "5\n",
      "4\n",
      "3\n",
      "2\n",
      "1\n"
     ]
    }
   ],
   "source": [
    "print('Please input only integers and 0 as a sentinel value')\n",
    "while True :\n",
    "    user_input = input() \n",
    "    try :\n",
    "        user_input_int = int(user_input) # check if input is integer         \n",
    "    except : \n",
    "        print('Please input only integers and 0 as a sentinel value')\n",
    "    else :\n",
    "        user_input_0 = user_input[:user_input.find('0')] if user_input.find('0') != -1 else user_input # cut by 0\n",
    "        user_input_reverse = user_input_0[::-1] # reverse order\n",
    "        print('The answer is')\n",
    "        for i in user_input_reverse :\n",
    "            print(i)\n",
    "        break"
   ]
  },
  {
   "cell_type": "markdown",
   "metadata": {},
   "source": [
    "## Exercise 107 : Avoiding Duplicates"
   ]
  },
  {
   "cell_type": "code",
   "execution_count": 90,
   "metadata": {},
   "outputs": [
    {
     "name": "stdout",
     "output_type": "stream",
     "text": [
      "first\n",
      "second\n",
      "first\n",
      "third\n",
      "second\n",
      "\n",
      "The answer is\n",
      "first\n",
      "second\n",
      "third\n"
     ]
    }
   ],
   "source": [
    "words = list()\n",
    "while True :\n",
    "    user_input = input()\n",
    "    if user_input == '' :\n",
    "        print('The answer is')\n",
    "        for i in words :\n",
    "            print(i)\n",
    "        break\n",
    "    if user_input not in words :\n",
    "        words.append(user_input)"
   ]
  },
  {
   "cell_type": "markdown",
   "metadata": {},
   "source": [
    "## Exercise 108 : Negatives, Zeros and Positives"
   ]
  },
  {
   "cell_type": "code",
   "execution_count": 92,
   "metadata": {},
   "outputs": [
    {
     "name": "stdout",
     "output_type": "stream",
     "text": [
      "3\n",
      "-4\n",
      "1\n",
      "0\n",
      "-1\n",
      "0\n",
      "-2\n",
      "\n",
      "The answer is\n",
      "-4\n",
      "-1\n",
      "-2\n",
      "0\n",
      "0\n",
      "3\n",
      "1\n"
     ]
    }
   ],
   "source": [
    "neg = list()\n",
    "zero = list()\n",
    "pos = list()\n",
    "\n",
    "while True :\n",
    "    user_input = input()\n",
    "    try : \n",
    "        if user_input == '' :\n",
    "            break\n",
    "        user_input_int = int(user_input)\n",
    "    except :\n",
    "        print('please input only integer')\n",
    "    else :    \n",
    "        if user_input_int < 0 :\n",
    "            neg.append(user_input_int)\n",
    "        elif user_input_int > 0 :\n",
    "            pos.append(user_input_int)\n",
    "        else :\n",
    "            zero.append(user_input_int)\n",
    "        \n",
    "        all_int = neg+zero+pos\n",
    "\n",
    "print('The answer is')        \n",
    "for i in all_int :\n",
    "    print(i)"
   ]
  },
  {
   "cell_type": "markdown",
   "metadata": {},
   "source": [
    "## Exercise 110 : Perfect Numbers"
   ]
  },
  {
   "cell_type": "code",
   "execution_count": 93,
   "metadata": {},
   "outputs": [
    {
     "name": "stdout",
     "output_type": "stream",
     "text": [
      "1 is perfect number\n",
      "6 is perfect number\n",
      "28 is perfect number\n",
      "496 is perfect number\n",
      "8128 is perfect number\n"
     ]
    }
   ],
   "source": [
    "def isPerfectNum(n) :\n",
    "    div = list()\n",
    "    for i in range(1, (n//2) +1) :\n",
    "        if n % i == 0 :\n",
    "            div.append(i)\n",
    "    if n == 1 or sum(div) == n :\n",
    "        return True\n",
    "    return False\n",
    "    \n",
    "for i in range(1, 10001) :\n",
    "    if isPerfectNum(i) :\n",
    "        print(i, 'is perfect number')"
   ]
  },
  {
   "cell_type": "markdown",
   "metadata": {},
   "source": [
    "## Exercise 113 : Formatting a List"
   ]
  },
  {
   "cell_type": "code",
   "execution_count": 94,
   "metadata": {},
   "outputs": [
    {
     "data": {
      "text/plain": [
       "'apples, oranges, bananas and lemons'"
      ]
     },
     "execution_count": 94,
     "metadata": {},
     "output_type": "execute_result"
    }
   ],
   "source": [
    "def formatList (items) :\n",
    "    return ', '.join(items[:-1]) + ' and ' + items[-1]\n",
    "    \n",
    "fruits = ['apples', 'oranges', 'bananas', 'lemons']   \n",
    "formatList(fruits)  "
   ]
  },
  {
   "cell_type": "markdown",
   "metadata": {},
   "source": [
    "## Exercise 114 : Random Lottery Numbers"
   ]
  },
  {
   "cell_type": "code",
   "execution_count": 97,
   "metadata": {},
   "outputs": [
    {
     "data": {
      "text/plain": [
       "{9, 13, 23, 35, 44, 48}"
      ]
     },
     "execution_count": 97,
     "metadata": {},
     "output_type": "execute_result"
    }
   ],
   "source": [
    "\n",
    "import random\n",
    "   \n",
    "lotto = set()\n",
    "while(len(lotto) != 6) :\n",
    "    lotto.add(random.randrange(1, 50))\n",
    "\n",
    "lotto"
   ]
  },
  {
   "cell_type": "markdown",
   "metadata": {},
   "source": [
    "## Exercise 134 : Unique Characters"
   ]
  },
  {
   "cell_type": "code",
   "execution_count": 98,
   "metadata": {},
   "outputs": [
    {
     "name": "stdout",
     "output_type": "stream",
     "text": [
      "Hello, World!\n",
      "The number of unique characters is 10\n"
     ]
    }
   ],
   "source": [
    "user_input = input()\n",
    "user_input_lst = [i for i in user_input]\n",
    "unique_char = set(user_input_lst)\n",
    "print('The number of unique characters is', len(unique_char))"
   ]
  },
  {
   "cell_type": "markdown",
   "metadata": {},
   "source": [
    "## Exercise 135 : Anagrams"
   ]
  },
  {
   "cell_type": "code",
   "execution_count": 99,
   "metadata": {},
   "outputs": [
    {
     "name": "stdout",
     "output_type": "stream",
     "text": [
      "evil\n",
      "live\n",
      "evil and live are anagrams\n"
     ]
    }
   ],
   "source": [
    "user_input1 = input()\n",
    "user_input2 = input()\n",
    "\n",
    "user_input1_lst = ' '.join(user_input1).split()\n",
    "user_input1_lst.sort()\n",
    "\n",
    "user_input2_lst = ' '.join(user_input2).split()\n",
    "user_input2_lst.sort()\n",
    "\n",
    "if user_input1_lst == user_input2_lst :\n",
    "    print(user_input1, 'and' , user_input2, 'are anagrams')\n",
    "else :\n",
    "    print(user_input1, 'and' , user_input2, 'are not anagrams')"
   ]
  },
  {
   "cell_type": "code",
   "execution_count": null,
   "metadata": {
    "collapsed": true
   },
   "outputs": [],
   "source": []
  }
 ],
 "metadata": {
  "kernelspec": {
   "display_name": "Python 3",
   "language": "python",
   "name": "python3"
  },
  "language_info": {
   "codemirror_mode": {
    "name": "ipython",
    "version": 3
   },
   "file_extension": ".py",
   "mimetype": "text/x-python",
   "name": "python",
   "nbconvert_exporter": "python",
   "pygments_lexer": "ipython3",
   "version": "3.6.1"
  }
 },
 "nbformat": 4,
 "nbformat_minor": 2
}
