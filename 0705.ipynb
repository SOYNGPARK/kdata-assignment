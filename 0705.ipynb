{
 "cells": [
  {
   "cell_type": "markdown",
   "metadata": {},
   "source": [
    "# 20180705 과제\n",
    "\n",
    "# 2018 BIG DATA x CAMPUS(고려대)\n",
    "\n",
    "# 서울과학기술대학교 ITM 전공 박소영"
   ]
  },
  {
   "cell_type": "markdown",
   "metadata": {},
   "source": [
    "## Exercise 82 : Taxi Fare "
   ]
  },
  {
   "cell_type": "code",
   "execution_count": 32,
   "metadata": {},
   "outputs": [
    {
     "name": "stdout",
     "output_type": "stream",
     "text": [
      "Please input the distance traveled in kilometers\n",
      "11.3\n",
      "Total taxi fare is $ 24.18\n"
     ]
    }
   ],
   "source": [
    "def taxi_fare(dist) :\n",
    "    base = 4\n",
    "    rate = 0.25\n",
    "    total = base + dist*1000/140*rate\n",
    "    return total\n",
    "\n",
    "print('Please input the distance traveled in kilometers')\n",
    "user_input = float(input())\n",
    "print('Total taxi fare is $', round(taxi_fare(user_input),2))"
   ]
  },
  {
   "cell_type": "markdown",
   "metadata": {},
   "source": [
    "##  Median of Three Values"
   ]
  },
  {
   "cell_type": "code",
   "execution_count": 16,
   "metadata": {},
   "outputs": [
    {
     "name": "stdout",
     "output_type": "stream",
     "text": [
      "Please input three numbers\n",
      "2\n",
      "9\n",
      "3\n",
      "The median value is 3\n"
     ]
    }
   ],
   "source": [
    "def median_value(x, y, z) :\n",
    "    lst = [x, y, z]\n",
    "    lst.sort()\n",
    "    med = lst[1]\n",
    "    return med\n",
    "\n",
    "print('Please input three numbers')\n",
    "a = int(input())\n",
    "b = int(input())\n",
    "c = int(input())\n",
    "print('The median value is', median_value(a,b,c))"
   ]
  },
  {
   "cell_type": "markdown",
   "metadata": {},
   "source": [
    "## Exercise 85 : Convert an Integer to its Ordinal Number"
   ]
  },
  {
   "cell_type": "code",
   "execution_count": 18,
   "metadata": {},
   "outputs": [
    {
     "name": "stdout",
     "output_type": "stream",
     "text": [
      "[(0, ''), (1, 'first'), (2, 'second'), (3, 'third'), (4, 'fourth'), (5, 'fifth'), (6, 'sixth'), (7, 'seventh'), (8, 'eighth'), (9, 'nineth'), (10, 'tenth'), (11, 'eleventh'), (12, 'twelfth'), (13, '')]\n"
     ]
    }
   ],
   "source": [
    "def to_ordinal_num(n) :\n",
    "    if n in range(1,13) :\n",
    "        ordi_lst = ['first', 'second', 'third', 'fourth', 'fifth',\n",
    "        'sixth', 'seventh', 'eighth', 'nineth', 'tenth',\n",
    "        'eleventh', 'twelfth']\n",
    "        ordi = ordi_lst[(n-1)]\n",
    "        return ordi\n",
    "    return ''\n",
    "\n",
    "print([(i, to_ordinal_num(i)) for i in range(0,14)])\n"
   ]
  },
  {
   "cell_type": "markdown",
   "metadata": {},
   "source": [
    "## Exercise 88 : Is it a Valid Triangle?"
   ]
  },
  {
   "cell_type": "code",
   "execution_count": 25,
   "metadata": {},
   "outputs": [
    {
     "name": "stdout",
     "output_type": "stream",
     "text": [
      "Please input three numbers\n",
      "6\n",
      "2\n",
      "2\n",
      "The triangle is not valid\n"
     ]
    }
   ],
   "source": [
    "def valid_triangle(x, y, z) :\n",
    "    lst = [x, y, z]\n",
    "    lst.sort()\n",
    "    if lst[2] >= (lst[0] + lst[1]) :\n",
    "        return False\n",
    "    return True\n",
    "\n",
    "print('Please input three numbers')\n",
    "a = int(input())\n",
    "b = int(input())\n",
    "c = int(input())\n",
    "\n",
    "if valid_triangle(a,b,c) :\n",
    "    print('The triangle is valid')\n",
    "else :\n",
    "    print('The triangle is not valid')"
   ]
  },
  {
   "cell_type": "markdown",
   "metadata": {},
   "source": [
    "## Exercise 92 : Is a Number Prime?"
   ]
  },
  {
   "cell_type": "code",
   "execution_count": 30,
   "metadata": {},
   "outputs": [
    {
     "name": "stdout",
     "output_type": "stream",
     "text": [
      "Please input an integer greater than 1\n",
      "6\n",
      "6 is not a prime number\n"
     ]
    }
   ],
   "source": [
    "def number_prime(n) :\n",
    "    for i in range(2, n) :\n",
    "        if n%i == 0 :\n",
    "            return False\n",
    "            break\n",
    "    return True\n",
    "\n",
    "print('Please input an integer greater than 1')\n",
    "user_input = int(input())\n",
    "if number_prime(user_input) :\n",
    "    print(user_input, 'is a prime number')\n",
    "else :\n",
    "    print(user_input, 'is not a prime number')"
   ]
  },
  {
   "cell_type": "markdown",
   "metadata": {},
   "source": [
    "## [Challenge] Exercise 86 : The Twelve Days of Christmas"
   ]
  },
  {
   "cell_type": "code",
   "execution_count": 49,
   "metadata": {},
   "outputs": [
    {
     "name": "stdout",
     "output_type": "stream",
     "text": [
      "On the first day of Christmas\n",
      "my true love sent to me:\n",
      "A Partridge in a Pear Tree.\n",
      "\n",
      "On the second day of Christmas\n",
      "my true love sent to me:\n",
      "Two Turtle Doves,\n",
      "And a Partridge in a Pear Tree.\n",
      "\n",
      "On the third day of Christmas\n",
      "my true love sent to me:\n",
      "Three French Hens,\n",
      "Two Turtle Doves,\n",
      "And a Partridge in a Pear Tree.\n",
      "\n",
      "On the fourth day of Christmas\n",
      "my true love sent to me:\n",
      "Four Calling Birds,\n",
      "Three French Hens,\n",
      "Two Turtle Doves,\n",
      "And a Partridge in a Pear Tree.\n",
      "\n",
      "On the fifth day of Christmas\n",
      "my true love sent to me:\n",
      "Five Gold Rings,\n",
      "Four Calling Birds,\n",
      "Three French Hens,\n",
      "Two Turtle Doves,\n",
      "And a Partridge in a Pear Tree.\n",
      "\n",
      "On the sixth day of Christmas\n",
      "my true love sent to me:\n",
      "Six Geese a-Laying,\n",
      "Five Gold Rings,\n",
      "Four Calling Birds,\n",
      "Three French Hens,\n",
      "Two Turtle Doves,\n",
      "And a Partridge in a Pear Tree.\n",
      "\n",
      "On the seventh day of Christmas\n",
      "my true love sent to me:\n",
      "Seven Swans a-Swimming,\n",
      "Six Geese a-Laying,\n",
      "Five Gold Rings,\n",
      "Four Calling Birds,\n",
      "Three French Hens,\n",
      "Two Turtle Doves,\n",
      "And a Partridge in a Pear Tree.\n",
      "\n",
      "On the eighth day of Christmas\n",
      "my true love sent to me:\n",
      "Eight Maids a-Milking,\n",
      "Seven Swans a-Swimming,\n",
      "Six Geese a-Laying,\n",
      "Five Gold Rings,\n",
      "Four Calling Birds,\n",
      "Three French Hens,\n",
      "Two Turtle Doves,\n",
      "And a Partridge in a Pear Tree.\n",
      "\n",
      "On the nineth day of Christmas\n",
      "my true love sent to me:\n",
      "Nine Ladies Dancing,\n",
      "Eight Maids a-Milking,\n",
      "Seven Swans a-Swimming,\n",
      "Six Geese a-Laying,\n",
      "Five Gold Rings,\n",
      "Four Calling Birds,\n",
      "Three French Hens,\n",
      "Two Turtle Doves,\n",
      "And a Partridge in a Pear Tree.\n",
      "\n",
      "On the tenth day of Christmas\n",
      "my true love sent to me:\n",
      "Ten Lords a-Leaping,\n",
      "Nine Ladies Dancing,\n",
      "Eight Maids a-Milking,\n",
      "Seven Swans a-Swimming,\n",
      "Six Geese a-Laying,\n",
      "Five Gold Rings,\n",
      "Four Calling Birds,\n",
      "Three French Hens,\n",
      "Two Turtle Doves,\n",
      "And a Partridge in a Pear Tree.\n",
      "\n",
      "On the eleventh day of Christmas\n",
      "my true love sent to me:\n",
      "Eleven Pipers Piping,\n",
      "Ten Lords a-Leaping,\n",
      "Nine Ladies Dancing,\n",
      "Eight Maids a-Milking,\n",
      "Seven Swans a-Swimming,\n",
      "Six Geese a-Laying,\n",
      "Five Gold Rings,\n",
      "Four Calling Birds,\n",
      "Three French Hens,\n",
      "Two Turtle Doves,\n",
      "And a Partridge in a Pear Tree.\n",
      "\n",
      "On the twelfth day of Christmas\n",
      "my true love sent to me:\n",
      "Twelve Drummers Drumming,\n",
      "Eleven Pipers Piping,\n",
      "Ten Lords a-Leaping,\n",
      "Nine Ladies Dancing,\n",
      "Eight Maids a-Milking,\n",
      "Seven Swans a-Swimming,\n",
      "Six Geese a-Laying,\n",
      "Five Gold Rings,\n",
      "Four Calling Birds,\n",
      "Three French Hens,\n",
      "Two Turtle Doves,\n",
      "And a Partridge in a Pear Tree.\n",
      "\n"
     ]
    }
   ],
   "source": [
    "def twelve_days_xmas(n) :\n",
    "    gifts = ['a Partridge in a Pear Tree', 'Two Turtle Doves',\n",
    "     'Three French Hens','Four Calling Birds', \n",
    "     'Five Gold Rings', 'Six Geese a-Laying', \n",
    "     'Seven Swans a-Swimming', 'Eight Maids a-Milking',\n",
    "     'Nine Ladies Dancing', 'Ten Lords a-Leaping', \n",
    "     'Eleven Pipers Piping', 'Twelve Drummers Drumming']\n",
    "    \n",
    "    lyrics = ',\\n'.join(gifts[1:n][::-1]) + ',\\n' + 'And ' + gifts[0] +'.' if n != 1 else 'A Partridge in a Pear Tree.'\n",
    "    \n",
    "    print('On the', to_ordinal_num(n),'day of Christmas')\n",
    "    print('my true love sent to me:')\n",
    "    print(lyrics)\n",
    "    \n",
    "for i in range(1,13) :\n",
    "    twelve_days_xmas(i)\n",
    "    print('')"
   ]
  }
 ],
 "metadata": {
  "kernelspec": {
   "display_name": "Python 3",
   "language": "python",
   "name": "python3"
  },
  "language_info": {
   "codemirror_mode": {
    "name": "ipython",
    "version": 3
   },
   "file_extension": ".py",
   "mimetype": "text/x-python",
   "name": "python",
   "nbconvert_exporter": "python",
   "pygments_lexer": "ipython3",
   "version": "3.6.1"
  }
 },
 "nbformat": 4,
 "nbformat_minor": 2
}
