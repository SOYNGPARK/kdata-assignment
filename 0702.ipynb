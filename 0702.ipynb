{
 "cells": [
  {
   "cell_type": "markdown",
   "metadata": {},
   "source": [
    "# 20180702 과제 \n",
    "\n",
    "# 2018 BIG DATA x CAMPUS(고려대)\n",
    "\n",
    "# 서울과학기술대학교 ITM 전공 박소영"
   ]
  },
  {
   "cell_type": "markdown",
   "metadata": {},
   "source": [
    "## 데이터 분석 하고 싶은 분야 / 기법"
   ]
  },
  {
   "cell_type": "markdown",
   "metadata": {},
   "source": [
    "* 추천 시스템 개발\n",
    "    - 영화, 웹툰, 쇼핑 등 고객 패턴과 유사한 콘텐츠 추천\n",
    "    - 협업 필터링, 콘텐츠 기반 필터링, 하이브리드 필터링\n",
    "    - Clustering, Association Rule"
   ]
  },
  {
   "cell_type": "markdown",
   "metadata": {},
   "source": [
    "* 텍스트 마이닝\n",
    "    - 학교에서 영화 리뷰 데이터를 크롤링하여 text categorization 프로젝트를 진행 후 관심이 생김\n",
    "    - 프로젝트 진행 시에는 단순히 3개의 클래스로 별점에 따라 리뷰를 분류할 뿐, 키워드나 각 term 자체가 내포하는 감정까지는 파악하지 못함\n",
    "    - 키워드 추출, 감정 분석 까지 진행해 보고 싶음"
   ]
  }
 ],
 "metadata": {
  "kernelspec": {
   "display_name": "Python 3",
   "language": "python",
   "name": "python3"
  },
  "language_info": {
   "codemirror_mode": {
    "name": "ipython",
    "version": 3
   },
   "file_extension": ".py",
   "mimetype": "text/x-python",
   "name": "python",
   "nbconvert_exporter": "python",
   "pygments_lexer": "ipython3",
   "version": "3.6.1"
  }
 },
 "nbformat": 4,
 "nbformat_minor": 2
}
