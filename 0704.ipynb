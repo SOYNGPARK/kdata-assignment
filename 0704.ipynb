{
 "cells": [
  {
   "cell_type": "markdown",
   "metadata": {},
   "source": [
    "# 20180704 과제\n",
    "\n",
    "# 2018 BIG DATA x CAMPUS(고려대)\n",
    "\n",
    "# 서울과학기술대학교 ITM 전공 박소영"
   ]
  },
  {
   "cell_type": "markdown",
   "metadata": {},
   "source": [
    "## Exercise 61 : Average"
   ]
  },
  {
   "cell_type": "code",
   "execution_count": 3,
   "metadata": {},
   "outputs": [
    {
     "name": "stdout",
     "output_type": "stream",
     "text": [
      "Please input integers to calculate average. You can input 0 to finish.\n",
      "0\n",
      "Do not permit 0 at first\n",
      "1\n",
      "2\n",
      "3\n",
      "4\n",
      "5\n",
      "0\n",
      "The average is 3.0\n"
     ]
    }
   ],
   "source": [
    "inputs = list()\n",
    "print(\"Please input integers to calculate average. You can input 0 to finish.\")\n",
    "while True :\n",
    "    try :\n",
    "        user_input = int(input())\n",
    "        if len(inputs) == 0 and user_input == 0 :\n",
    "            raise Exception(\"FirstInputZeroError\")\n",
    "    except :\n",
    "        print(\"Do not permit 0 at first\")\n",
    "    else :\n",
    "        if user_input == 0 :\n",
    "            av = sum(inputs)/len(inputs)\n",
    "            print(\"The average is\", av)\n",
    "            break\n",
    "        inputs.append(user_input)"
   ]
  },
  {
   "cell_type": "markdown",
   "metadata": {
    "collapsed": true
   },
   "source": [
    "## Exercise 63 : Temperature Conversion Table "
   ]
  },
  {
   "cell_type": "code",
   "execution_count": 11,
   "metadata": {},
   "outputs": [
    {
     "name": "stdout",
     "output_type": "stream",
     "text": [
      "Celsius Fahrenheit\n",
      "0 32.0\n",
      "10 50.0\n",
      "20 68.0\n",
      "30 86.0\n",
      "40 104.0\n",
      "50 122.0\n",
      "60 140.0\n",
      "70 158.0\n",
      "80 176.0\n",
      "90 194.0\n",
      "100 212.0\n"
     ]
    }
   ],
   "source": [
    "cel = list(range(0,101,10))\n",
    "fah = [0]*len(cel)\n",
    "print('Celsius', 'Fahrenheit')\n",
    "for i in range(len(cel)) :\n",
    "    fah[i] = cel[i] * 1.8 + 32\n",
    "    print(cel[i], fah[i])"
   ]
  },
  {
   "cell_type": "markdown",
   "metadata": {},
   "source": [
    "## Exercise 66 : Compute a Grade Point Average"
   ]
  },
  {
   "cell_type": "code",
   "execution_count": 25,
   "metadata": {},
   "outputs": [
    {
     "name": "stdout",
     "output_type": "stream",
     "text": [
      "A\n",
      "C+\n",
      "B\n",
      "0\n",
      "The grade average is 3.1\n"
     ]
    }
   ],
   "source": [
    "grades = ['F', 'D', 'C', 'B', 'A']\n",
    "scores = 0\n",
    "num = 0\n",
    "while True :\n",
    "    user_input = input()\n",
    "    if user_input == '0' :\n",
    "        print('The grade average is', scores/num)\n",
    "        break\n",
    "    score = grades.index(user_input[0])\n",
    "    if len(user_input) != 1 :\n",
    "        score = score + 0.3 if user_input[1] == '+' else score - 0.3\n",
    "    score = 4 if user_input == 'A+' else score\n",
    "    scores += score\n",
    "    num += 1"
   ]
  },
  {
   "cell_type": "markdown",
   "metadata": {},
   "source": [
    "## Exercise 67 : Admission Price"
   ]
  },
  {
   "cell_type": "code",
   "execution_count": 4,
   "metadata": {},
   "outputs": [
    {
     "name": "stdout",
     "output_type": "stream",
     "text": [
      "2\n",
      "3\n",
      "11\n",
      "34\n",
      "35\n",
      "65\n",
      "66\n",
      "\n",
      "Total cost for 1 babies, 2 kids, 2 adults and 2 seniors is $ 110\n"
     ]
    }
   ],
   "source": [
    "cost = 0\n",
    "baby = 0\n",
    "kid = 0\n",
    "adult = 0\n",
    "senior = 0\n",
    "\n",
    "while True :\n",
    "    try :\n",
    "        user_input = input()\n",
    "        user_input_int = int(user_input)\n",
    "    except : \n",
    "        if user_input == '' :\n",
    "            print('Total cost for', baby, 'babies,', kid, 'kids,', adult,'adults and', senior, 'seniors is $', cost)\n",
    "            break\n",
    "    else :\n",
    "        if user_input_int <= 2 :\n",
    "            baby += 1\n",
    "        elif 3 <= user_input_int <= 12 :\n",
    "            cost += 14\n",
    "            kid += 1\n",
    "        elif user_input_int < 65 :\n",
    "            cost += 23\n",
    "            adult += 1\n",
    "        else :\n",
    "            cost += 18\n",
    "            senior += 1"
   ]
  },
  {
   "cell_type": "markdown",
   "metadata": {
    "collapsed": true
   },
   "source": [
    "## Exercise 72 : Is a String a Palindrome?"
   ]
  },
  {
   "cell_type": "code",
   "execution_count": 15,
   "metadata": {},
   "outputs": [
    {
     "name": "stdout",
     "output_type": "stream",
     "text": [
      "civic\n",
      "civic is a palindrome\n",
      "panna\n",
      "panna is not a palindrome\n",
      "hannah\n",
      "hannah is a palindrome\n"
     ]
    }
   ],
   "source": [
    "for i in range(3) : \n",
    "    user_input = input()\n",
    "\n",
    "    m = len(user_input)//2\n",
    "    if len(user_input)%2 == 0 : #짝수\n",
    "        if user_input[:m] == user_input[m:][::-1] :\n",
    "            print(user_input, 'is a palindrome')\n",
    "        else :\n",
    "            print(user_input, 'is not a palindrome')\n",
    "    else :\n",
    "        if user_input[:m] == user_input[(m+1):][::-1] :\n",
    "            print(user_input, 'is a palindrome')\n",
    "        else :\n",
    "            print(user_input, 'is not a palindrome')"
   ]
  },
  {
   "cell_type": "markdown",
   "metadata": {},
   "source": [
    "## Exercise 74 : Multiplication Table"
   ]
  },
  {
   "cell_type": "code",
   "execution_count": 20,
   "metadata": {},
   "outputs": [
    {
     "name": "stdout",
     "output_type": "stream",
     "text": [
      "\n",
      "1  2  3  4  5  6  7  8  9  10  \n",
      "2  4  6  8  10  12  14  16  18  20  \n",
      "3  6  9  12  15  18  21  24  27  30  \n",
      "4  8  12  16  20  24  28  32  36  40  \n",
      "5  10  15  20  25  30  35  40  45  50  \n",
      "6  12  18  24  30  36  42  48  54  60  \n",
      "7  14  21  28  35  42  49  56  63  70  \n",
      "8  16  24  32  40  48  56  64  72  80  \n",
      "9  18  27  36  45  54  63  72  81  90  \n",
      "10  20  30  40  50  60  70  80  90  100  "
     ]
    }
   ],
   "source": [
    "nums = list(range(1,11))\n",
    "for i in nums :\n",
    "    print()\n",
    "    for j in nums :\n",
    "        print(i*j, \" \", end=\"\")"
   ]
  },
  {
   "cell_type": "markdown",
   "metadata": {},
   "source": [
    "## Exercise 75 : Greatest Common Divisor"
   ]
  },
  {
   "cell_type": "code",
   "execution_count": 23,
   "metadata": {},
   "outputs": [
    {
     "name": "stdout",
     "output_type": "stream",
     "text": [
      "Please input two positive integers\n",
      "60\n",
      "48\n",
      "The greatest common divisor of 60 and 48 is 12\n"
     ]
    }
   ],
   "source": [
    "def GCD(m, n) : # m > n\n",
    "    d = n-1 # initialize d\n",
    "    while m%d != 0 or n%d != 0 :\n",
    "        d = d-1\n",
    "    return d\n",
    "\n",
    "print(\"Please input two positive integers\")\n",
    "user_input1 = int(input())\n",
    "user_input2 = int(input())\n",
    "print('The greatest common divisor of', user_input1, 'and' , user_input2, 'is', GCD(user_input1, user_input2))"
   ]
  },
  {
   "cell_type": "markdown",
   "metadata": {},
   "source": [
    "## Exercise 77 : Binary to Decimal"
   ]
  },
  {
   "cell_type": "code",
   "execution_count": 38,
   "metadata": {},
   "outputs": [
    {
     "name": "stdout",
     "output_type": "stream",
     "text": [
      "Please input a binary number\n",
      "111\n",
      "A binary number 111 is converted to decimal number 7\n"
     ]
    }
   ],
   "source": [
    "print('Please input a binary number')\n",
    "user_input = input()\n",
    "s = 0\n",
    "user_input_rev = user_input[::-1]\n",
    "for i in range(len(user_input_rev)):\n",
    "    s += int(user_input_rev[i])*(2**i)\n",
    "print('A binary number', user_input, 'is converted to decimal number', s)"
   ]
  },
  {
   "cell_type": "markdown",
   "metadata": {},
   "source": [
    "## Exercise 79 : Decimal to Binary"
   ]
  },
  {
   "cell_type": "code",
   "execution_count": 39,
   "metadata": {},
   "outputs": [
    {
     "name": "stdout",
     "output_type": "stream",
     "text": [
      "Please input a decimal number\n",
      "7\n",
      "A decimal number 7 is converted to binary number 111\n"
     ]
    }
   ],
   "source": [
    "print('Please input a decimal number')\n",
    "q = int(input())\n",
    "q_orig = q\n",
    "result = ''\n",
    "while q != 1 :\n",
    "    r=q%2\n",
    "    result += str(r)\n",
    "    q=q//2\n",
    "s = '1'+result[::-1]\n",
    "print('A decimal number', q_orig, 'is converted to binary number', s)"
   ]
  }
 ],
 "metadata": {
  "kernelspec": {
   "display_name": "Python 3",
   "language": "python",
   "name": "python3"
  },
  "language_info": {
   "codemirror_mode": {
    "name": "ipython",
    "version": 3
   },
   "file_extension": ".py",
   "mimetype": "text/x-python",
   "name": "python",
   "nbconvert_exporter": "python",
   "pygments_lexer": "ipython3",
   "version": "3.6.1"
  }
 },
 "nbformat": 4,
 "nbformat_minor": 2
}
