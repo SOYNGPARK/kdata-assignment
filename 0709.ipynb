{
 "cells": [
  {
   "cell_type": "markdown",
   "metadata": {},
   "source": [
    "# 20180709 과제\n",
    "\n",
    "# 2018 BIG DATA x CAMPUS(고려대)\n",
    "\n",
    "# 서울과학기술대학교 ITM 전공 박소영"
   ]
  },
  {
   "cell_type": "markdown",
   "metadata": {},
   "source": [
    "## Exercise 129 : Two Dice Simulation"
   ]
  },
  {
   "cell_type": "code",
   "execution_count": 23,
   "metadata": {},
   "outputs": [
    {
     "name": "stdout",
     "output_type": "stream",
     "text": [
      "Total\tSimulated Percent\tExpected Percent\n",
      "2\t2.7\t2.78\n",
      "3\t5.4\t5.56\n",
      "4\t7.0\t8.33\n",
      "5\t11.6\t11.11\n",
      "6\t13.2\t13.89\n",
      "7\t18.5\t16.67\n",
      "8\t13.7\t13.89\n",
      "9\t11.8\t11.11\n",
      "10\t7.7\t8.33\n",
      "11\t5.2\t5.56\n",
      "12\t3.2\t2.78\n"
     ]
    }
   ],
   "source": [
    "from random import randint\n",
    "\n",
    "def roll_two_dice() :\n",
    "    a = randint(1,6)\n",
    "    b = randint(1,6)\n",
    "    return a+b\n",
    "\n",
    "ct = [0]*11\n",
    "for i in range(1000) :\n",
    "    idx = roll_two_dice()-2\n",
    "    ct[idx] += 1\n",
    "\n",
    "print('Total\\tSimulated Percent\\tExpected Percent')\n",
    "\n",
    "for i in range(len(ct)) :\n",
    "    total = i+2\n",
    "    sp = round(ct[i]/1000 * 100,2)\n",
    "    ep = round((total-1)/36 * 100,2) if total<= 7 else round((13-total)/36 * 100, 2)\n",
    "    print(str(total)+'\\t'+str(sp)+'\\t'+str(ep))\n"
   ]
  },
  {
   "cell_type": "markdown",
   "metadata": {},
   "source": [
    "## Exercise 130 : Text Messaging"
   ]
  },
  {
   "cell_type": "code",
   "execution_count": 52,
   "metadata": {},
   "outputs": [
    {
     "name": "stdout",
     "output_type": "stream",
     "text": [
      "Please input message! Hello, World!\n",
      "The key press is 4433555555666110966677755531111\n"
     ]
    }
   ],
   "source": [
    "keypad = {1 : '.,?!:', 2 : 'ABC', 3 : 'DEF', \n",
    "          4 : 'GHI', 5 : 'JKL', 6 : 'MNO', \n",
    "          7 : 'PQRS', 8 : 'TUV', 9 : 'WXYZ', 0 : ' '}\n",
    "\n",
    "def txt_msg(msg) :\n",
    "    msg = msg.upper()\n",
    "    op = ''\n",
    "    for i in msg :\n",
    "        for j in keypad :\n",
    "            if i in keypad[j] :\n",
    "                op += str(j)*(keypad[j].find(i)+1)\n",
    "    return op\n",
    "                \n",
    "user_input = input('Please input message! ')\n",
    "print('The key press is', txt_msg(user_input))    "
   ]
  },
  {
   "cell_type": "markdown",
   "metadata": {},
   "source": [
    "## Exercise 131 : Morse Code"
   ]
  },
  {
   "cell_type": "code",
   "execution_count": 55,
   "metadata": {
    "scrolled": true
   },
   "outputs": [
    {
     "name": "stdout",
     "output_type": "stream",
     "text": [
      "Please input message! Hello, World!\n",
      "The morse code is .... . .-.. .-.. --- .-- --- .-. .-.. -.. \n"
     ]
    }
   ],
   "source": [
    "morse = {\n",
    "   'A' : '.-', 'J' : '.---', 'S' : '...', '1': '.----',\n",
    "   'B' : '-...', 'K' : '-.-', 'T' : '-', '2' : '..---',\n",
    "   'C' : '-.-.', 'L' : '.-..', 'U' : '..-', '3' : '...--',\n",
    "   'D' : '-..', 'M' : '--', 'V' : '...-', '4' : '....-',\n",
    "   'E' : '.', 'N' : '-.', 'W' : '.--', '5' : '.....',\n",
    "   'F' : '..-.', 'O' : '---', 'X' : '-..-', '6' : '-....',\n",
    "   'G' : '--.', 'P' : '.--.', 'Y' : '-.--', '7' : '--...',\n",
    "   'H' : '....', 'Q' : '--.-', 'Z' : '--..', '8' : '---..',\n",
    "   'I' : '..', 'R' :'.-.', '0' : '-----', '9' : '----.'\n",
    "}\n",
    "\n",
    "def to_morse(msg) :\n",
    "    msg = msg.upper()\n",
    "    op = ''\n",
    "    for i in msg :\n",
    "        try : \n",
    "            op += morse[i] + ' '\n",
    "        except :\n",
    "            None\n",
    "    return op\n",
    "    \n",
    "\n",
    "user_input = input('Please input message! ')\n",
    "print('The morse code is', to_morse(user_input))     "
   ]
  },
  {
   "cell_type": "markdown",
   "metadata": {},
   "source": [
    "## Exercise 132 : Postal Codes"
   ]
  },
  {
   "cell_type": "code",
   "execution_count": 59,
   "metadata": {},
   "outputs": [
    {
     "name": "stdout",
     "output_type": "stream",
     "text": [
      "Please input postal code! X0A 1B2\n",
      "The postal code is for rural address in Nunavut or Northwest Territories\n"
     ]
    }
   ],
   "source": [
    "postal = {\"A\":\"Newfoundland\", \"B\":\"Nova Scotia\", \"C\":\"Prince Edward Island\", \\\n",
    "         \"E\":\"New Brunswick\", \"G\":\"Quebec\", \"H\":\"Quebec\", \"J\":\"Quebec\", \\\n",
    "         \"K\":\"Ontario\", \"L\":\"Ontario\", \"M\":\"Ontario\", \"N\":\"Ontario\", \"P\":\"Ontario\",\\\n",
    "         \"R\": \"Manitoba\", \"S\":\"Saskatchewan\", \"T\":\"Alberta\", \"V\":\"British Columbia\", \\\n",
    "         \"X\": \"Nunavut or Northwest Territories\", \"Y\":\"Yukon\"}\n",
    "\n",
    "def to_province(code) :\n",
    "    try : \n",
    "        first = code[0]\n",
    "        second = code[1]\n",
    "    except :\n",
    "        print('Error! Please check postal code again!')\n",
    "        return None\n",
    "    else :\n",
    "        result = ('rural' if second == '0' else 'urban') + ' address in ' + postal[first]\n",
    "        return result\n",
    "\n",
    "    \n",
    "user_input = input('Please input postal code! ')\n",
    "print('The postal code is for', to_province(user_input))    "
   ]
  }
 ],
 "metadata": {
  "kernelspec": {
   "display_name": "Python 3",
   "language": "python",
   "name": "python3"
  },
  "language_info": {
   "codemirror_mode": {
    "name": "ipython",
    "version": 3
   },
   "file_extension": ".py",
   "mimetype": "text/x-python",
   "name": "python",
   "nbconvert_exporter": "python",
   "pygments_lexer": "ipython3",
   "version": "3.6.1"
  }
 },
 "nbformat": 4,
 "nbformat_minor": 2
}
